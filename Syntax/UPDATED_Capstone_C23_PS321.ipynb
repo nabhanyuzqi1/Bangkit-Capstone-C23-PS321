{
  "nbformat": 4,
  "nbformat_minor": 0,
  "metadata": {
    "colab": {
      "provenance": [],
      "gpuType": "T4"
    },
    "kernelspec": {
      "name": "python3",
      "display_name": "Python 3"
    },
    "language_info": {
      "name": "python"
    },
    "accelerator": "GPU"
  },
  "cells": [
    {
      "cell_type": "code",
      "source": [
        "import numpy as np\n",
        "import pandas as pd\n",
        "import tensorflow as tf\n",
        "from tensorflow.keras.models import Sequential\n",
        "from tensorflow.keras.layers import Dense, Dropout\n",
        "from sklearn.model_selection import train_test_split\n",
        "\n",
        "# Input dataset\n",
        "data = pd.read_csv('/content/dataset_6.csv')\n",
        "\n",
        "# Modify the \"needed\" column\n",
        "needed_columns = ['needed_ban', 'needed_mesin', 'needed_bodi', 'needed_interior', 'needed_oli']\n",
        "needed_values = data['needed'].apply(lambda x: [int(value == x) for value in ['ban', 'mesin', 'bodi', 'interior', 'oli']])\n",
        "needed_df = pd.DataFrame(needed_values.tolist(), columns=needed_columns)\n",
        "data_encoded = pd.concat([data, needed_df], axis=1)\n",
        "\n",
        "# Modify the \"covered\" column\n",
        "covered_columns = ['covered_ban', 'covered_mesin', 'covered_bodi', 'covered_interior', 'covered_oli']\n",
        "covered_values = data['covered'].apply(lambda x: [int(value in x.split('|')) for value in ['ban', 'mesin', 'bodi', 'interior', 'oli']])\n",
        "covered_df = pd.DataFrame(covered_values.tolist(), columns=covered_columns)\n",
        "data_encoded = pd.concat([data_encoded, covered_df], axis=1)\n",
        "\n",
        "# Convert ratings to integers\n",
        "data_encoded['rating'] = data_encoded['rating'].astype(int)\n",
        "\n",
        "# Remove 'needed' and 'covered' columns from the encoded DataFrame\n",
        "data_encoded = data_encoded.drop(['needed', 'covered'], axis=1)\n",
        "\n",
        "# Split data into training and testing sets\n",
        "train_data, test_data = train_test_split(data_encoded, test_size=0.2, random_state=42)\n",
        "\n",
        "# Separate features and target variables\n",
        "train_features = train_data.drop(['technicians_id', 'rating'] + covered_columns, axis=1)\n",
        "train_target = train_data[['technicians_id', 'rating'] + covered_columns]\n",
        "test_features = test_data.drop(['technicians_id', 'rating'] + covered_columns, axis=1)\n",
        "test_target = test_data[['technicians_id', 'rating'] + covered_columns]\n",
        "\n",
        "# Convert the train features and target to float32\n",
        "train_features = np.array(train_features).astype(np.float32)\n",
        "train_target = np.array(train_target).astype(np.float32)\n",
        "\n",
        "# Convert the test features and target to float32\n",
        "test_features = np.array(test_features).astype(np.float32)\n",
        "test_target = np.array(test_target).astype(np.float32)\n",
        "\n",
        "# Define model\n",
        "model = Sequential()\n",
        "model.add(Dense(64, activation='relu', input_shape=(train_features.shape[1],)))\n",
        "model.add(Dropout(0.2))\n",
        "model.add(Dense(128, activation='relu', kernel_regularizer=tf.keras.regularizers.l2(0.1)))\n",
        "model.add(Dropout(0.2))\n",
        "model.add(Dense(512, activation='relu'))\n",
        "model.add(Dense(1024, activation='relu'))\n",
        "model.add(Dense(2048, activation='relu'))\n",
        "model.add(Dense(train_target.shape[1], activation='linear'))\n",
        "\n",
        "def mean_average_precision(y_true, y_pred):\n",
        "    # Extract the relevant information from y_true and y_pred\n",
        "    y_true = test_features\n",
        "    y_pred = test_target\n",
        "    user_id = y_true[:, 0]\n",
        "    needed = y_true[:, 1:6]\n",
        "    technicians_id = y_pred[:, 0]\n",
        "    rating = y_pred[:, 1]\n",
        "    covered = y_pred[:, 2:7]\n",
        "\n",
        "    # Compute the Average Precision (AP) for each user\n",
        "    ap_values = []\n",
        "    for i in range(len(user_id)):\n",
        "        # Get the relevant items for the user from y_true\n",
        "        relevant_items = np.where(needed[i] == 1)[0]\n",
        "\n",
        "        # Get the predicted items for the user from y_pred\n",
        "        predicted_items = np.where(covered[i] == 1)[0]\n",
        "\n",
        "        # Compute the precision at each position\n",
        "        precision = []\n",
        "        for j in range(len(predicted_items)):\n",
        "            if predicted_items[j] in relevant_items:\n",
        "                precision.append(np.sum(predicted_items[:j+1] == predicted_items[j]) / (j+1))\n",
        "\n",
        "        # Compute the Average Precision (AP) for the user\n",
        "        ap = np.mean(precision) if precision else 0.0\n",
        "        ap_values.append(ap)\n",
        "\n",
        "    # Compute the Mean Average Precision (MAP) across all users\n",
        "    map_value = np.mean(ap_values)\n",
        "    \n",
        "    return map_value\n",
        "\n",
        "# Compile model\n",
        "model.compile(loss='mean_squared_error', optimizer= 'adam', metrics=[mean_average_precision])\n",
        "\n",
        "# Train model\n",
        "history = model.fit(train_features, train_target, epochs=30, validation_split=0.2, batch_size = 32)\n",
        "\n",
        "# Evaluate the model\n",
        "test_loss, test_map = model.evaluate(test_features, test_target)\n"
      ],
      "metadata": {
        "colab": {
          "base_uri": "https://localhost:8080/"
        },
        "id": "LIKvAU3bdY5_",
        "outputId": "4b59c37f-1f6c-4192-d368-406870680ea7"
      },
      "execution_count": 14,
      "outputs": [
        {
          "output_type": "stream",
          "name": "stdout",
          "text": [
            "Epoch 1/30\n",
            "10/10 [==============================] - 3s 26ms/step - loss: 253.8401 - mean_average_precision: 0.8083 - val_loss: 25.9116 - val_mean_average_precision: 0.8083\n",
            "Epoch 2/30\n",
            "10/10 [==============================] - 0s 7ms/step - loss: 20.2689 - mean_average_precision: 0.8083 - val_loss: 22.9470 - val_mean_average_precision: 0.8083\n",
            "Epoch 3/30\n",
            "10/10 [==============================] - 0s 7ms/step - loss: 16.7268 - mean_average_precision: 0.8083 - val_loss: 18.4534 - val_mean_average_precision: 0.8083\n",
            "Epoch 4/30\n",
            "10/10 [==============================] - 0s 6ms/step - loss: 16.2643 - mean_average_precision: 0.8083 - val_loss: 19.0019 - val_mean_average_precision: 0.8083\n",
            "Epoch 5/30\n",
            "10/10 [==============================] - 0s 7ms/step - loss: 15.6194 - mean_average_precision: 0.8083 - val_loss: 19.4806 - val_mean_average_precision: 0.8083\n",
            "Epoch 6/30\n",
            "10/10 [==============================] - 0s 7ms/step - loss: 15.0713 - mean_average_precision: 0.8083 - val_loss: 17.5672 - val_mean_average_precision: 0.8083\n",
            "Epoch 7/30\n",
            "10/10 [==============================] - 0s 8ms/step - loss: 14.5760 - mean_average_precision: 0.8083 - val_loss: 17.1689 - val_mean_average_precision: 0.8083\n",
            "Epoch 8/30\n",
            "10/10 [==============================] - 0s 8ms/step - loss: 14.3402 - mean_average_precision: 0.8083 - val_loss: 17.2375 - val_mean_average_precision: 0.8083\n",
            "Epoch 9/30\n",
            "10/10 [==============================] - 0s 8ms/step - loss: 13.9632 - mean_average_precision: 0.8083 - val_loss: 17.0255 - val_mean_average_precision: 0.8083\n",
            "Epoch 10/30\n",
            "10/10 [==============================] - 0s 9ms/step - loss: 13.6045 - mean_average_precision: 0.8083 - val_loss: 16.2985 - val_mean_average_precision: 0.8083\n",
            "Epoch 11/30\n",
            "10/10 [==============================] - 0s 8ms/step - loss: 13.2206 - mean_average_precision: 0.8083 - val_loss: 16.7753 - val_mean_average_precision: 0.8083\n",
            "Epoch 12/30\n",
            "10/10 [==============================] - 0s 8ms/step - loss: 13.2255 - mean_average_precision: 0.8083 - val_loss: 15.6891 - val_mean_average_precision: 0.8083\n",
            "Epoch 13/30\n",
            "10/10 [==============================] - 0s 6ms/step - loss: 12.9971 - mean_average_precision: 0.8083 - val_loss: 15.3591 - val_mean_average_precision: 0.8083\n",
            "Epoch 14/30\n",
            "10/10 [==============================] - 0s 6ms/step - loss: 12.9447 - mean_average_precision: 0.8083 - val_loss: 14.9882 - val_mean_average_precision: 0.8083\n",
            "Epoch 15/30\n",
            "10/10 [==============================] - 0s 7ms/step - loss: 12.6598 - mean_average_precision: 0.8083 - val_loss: 15.0533 - val_mean_average_precision: 0.8083\n",
            "Epoch 16/30\n",
            "10/10 [==============================] - 0s 8ms/step - loss: 12.4876 - mean_average_precision: 0.8083 - val_loss: 14.1340 - val_mean_average_precision: 0.8083\n",
            "Epoch 17/30\n",
            "10/10 [==============================] - 0s 6ms/step - loss: 12.2709 - mean_average_precision: 0.8083 - val_loss: 15.8150 - val_mean_average_precision: 0.8083\n",
            "Epoch 18/30\n",
            "10/10 [==============================] - 0s 6ms/step - loss: 12.2667 - mean_average_precision: 0.8083 - val_loss: 14.4060 - val_mean_average_precision: 0.8083\n",
            "Epoch 19/30\n",
            "10/10 [==============================] - 0s 8ms/step - loss: 11.9563 - mean_average_precision: 0.8083 - val_loss: 15.4356 - val_mean_average_precision: 0.8083\n",
            "Epoch 20/30\n",
            "10/10 [==============================] - 0s 6ms/step - loss: 12.0883 - mean_average_precision: 0.8083 - val_loss: 14.7127 - val_mean_average_precision: 0.8083\n",
            "Epoch 21/30\n",
            "10/10 [==============================] - 0s 9ms/step - loss: 11.5523 - mean_average_precision: 0.8083 - val_loss: 13.7982 - val_mean_average_precision: 0.8083\n",
            "Epoch 22/30\n",
            "10/10 [==============================] - 0s 7ms/step - loss: 11.4471 - mean_average_precision: 0.8083 - val_loss: 14.2040 - val_mean_average_precision: 0.8083\n",
            "Epoch 23/30\n",
            "10/10 [==============================] - 0s 8ms/step - loss: 11.1774 - mean_average_precision: 0.8083 - val_loss: 14.9636 - val_mean_average_precision: 0.8083\n",
            "Epoch 24/30\n",
            "10/10 [==============================] - 0s 7ms/step - loss: 11.3686 - mean_average_precision: 0.8083 - val_loss: 13.6351 - val_mean_average_precision: 0.8083\n",
            "Epoch 25/30\n",
            "10/10 [==============================] - 0s 8ms/step - loss: 11.0941 - mean_average_precision: 0.8083 - val_loss: 14.1840 - val_mean_average_precision: 0.8083\n",
            "Epoch 26/30\n",
            "10/10 [==============================] - 0s 6ms/step - loss: 11.2047 - mean_average_precision: 0.8083 - val_loss: 13.1144 - val_mean_average_precision: 0.8083\n",
            "Epoch 27/30\n",
            "10/10 [==============================] - 0s 7ms/step - loss: 10.9864 - mean_average_precision: 0.8083 - val_loss: 14.2137 - val_mean_average_precision: 0.8083\n",
            "Epoch 28/30\n",
            "10/10 [==============================] - 0s 8ms/step - loss: 10.8393 - mean_average_precision: 0.8083 - val_loss: 11.9620 - val_mean_average_precision: 0.8083\n",
            "Epoch 29/30\n",
            "10/10 [==============================] - 0s 8ms/step - loss: 10.5222 - mean_average_precision: 0.8083 - val_loss: 12.3011 - val_mean_average_precision: 0.8083\n",
            "Epoch 30/30\n",
            "10/10 [==============================] - 0s 6ms/step - loss: 10.1672 - mean_average_precision: 0.8083 - val_loss: 11.3656 - val_mean_average_precision: 0.8083\n",
            "4/4 [==============================] - 0s 4ms/step - loss: 10.4213 - mean_average_precision: 0.8083\n"
          ]
        }
      ]
    },
    {
      "cell_type": "code",
      "source": [
        "# Plot the loss and accuracy\n",
        "import matplotlib.pyplot as plt\n",
        "\n",
        "plt.plot(history.history['loss'], label='Train Loss')\n",
        "plt.plot(history.history['val_loss'], label='Validation Loss')\n",
        "plt.title('Loss')\n",
        "plt.xlabel('Epochs')\n",
        "plt.ylabel('Loss')\n",
        "plt.legend()\n",
        "plt.show()"
      ],
      "metadata": {
        "colab": {
          "base_uri": "https://localhost:8080/",
          "height": 472
        },
        "id": "8V1Lae2PtGoK",
        "outputId": "fcb3b10a-c903-49e8-98d5-76adaac7e26d"
      },
      "execution_count": 15,
      "outputs": [
        {
          "output_type": "display_data",
          "data": {
            "text/plain": [
              "<Figure size 640x480 with 1 Axes>"
            ],
            "image/png": "[encoded data removed]"
          },
          "metadata": {}
        }
      ]
    },
    {
      "cell_type": "code",
      "source": [
        "import matplotlib.pyplot as plt\n",
        "\n",
        "# Get the MAP values for each epoch\n",
        "train_map = history.history['mean_average_precision']\n",
        "val_map = history.history['val_mean_average_precision']\n",
        "\n",
        "# Plot the MAP values\n",
        "epochs = range(1, len(train_map) + 1)\n",
        "plt.plot(epochs, train_map, 'bo-', label='Training MAP')\n",
        "plt.plot(epochs, val_map, 'ro-', label='Validation MAP')\n",
        "plt.xlabel('Epochs')\n",
        "plt.ylabel('MAP')\n",
        "plt.title('Training and Validation MAP')\n",
        "plt.legend()\n",
        "plt.show()\n"
      ],
      "metadata": {
        "colab": {
          "base_uri": "https://localhost:8080/",
          "height": 487
        },
        "id": "LYzm8GJ95hMI",
        "outputId": "6976e40e-586a-47c1-e66b-a3c3d69568ab"
      },
      "execution_count": 16,
      "outputs": [
        {
          "output_type": "display_data",
          "data": {
            "text/plain": [
              "<Figure size 640x480 with 1 Axes>"
            ],
            "image/png": "[encoded data removed]"
          },
          "metadata": {}
        }
      ]
    },
    {
      "cell_type": "code",
      "source": [
        "import pandas as pd\n",
        "import numpy as np\n",
        "\n",
        "# Load technician data\n",
        "tech_data = pd.read_csv('technicians_data.csv')\n",
        "\n",
        "# Preprocess the input\n",
        "user_id = int(input(\"Enter User ID: \"))\n",
        "needed_ban = int(input(\"Ban needed (0/1): \"))\n",
        "needed_mesin = int(input(\"Mesin needed (0/1): \"))\n",
        "needed_bodi = int(input(\"Bodi needed (0/1): \"))\n",
        "needed_interior = int(input(\"Interior needed (0/1): \"))\n",
        "needed_oli = int(input(\"Oli needed (0/1): \"))\n",
        "\n",
        "# Encode the user's input\n",
        "user_data = pd.DataFrame([[user_id, needed_ban, needed_mesin, needed_bodi, needed_interior, needed_oli]],\n",
        "                         columns=['user_id', 'needed_ban', 'needed_mesin', 'needed_bodi', 'needed_interior', 'needed_oli'])\n",
        "\n",
        "# Convert the user's encoded features to float32\n",
        "user_features = np.array(user_data).astype(np.float32)\n",
        "\n",
        "# Make predictions\n",
        "predictions = model.predict(user_features)\n",
        "\n",
        "# Retrieve the predicted technicians and ratings\n",
        "predicted_technicians_id = int(np.round(np.clip(predictions[0][0], 1, 20)))\n",
        "predicted_rating = int(np.round(np.clip(predictions[0][1], 1, 5)))\n",
        "\n",
        "# Get the covered columns\n",
        "covered_columns = ['covered_mesin', 'covered_ban', 'covered_bodi', 'covered_interior', 'covered_oli']\n",
        "\n",
        "# Find the recommended technicians based on user's needs\n",
        "recommended_technicians = []\n",
        "for index, row in tech_data.iterrows():\n",
        "    if (row[covered_columns[0]] == 1 and needed_mesin == 1) or \\\n",
        "            (row[covered_columns[1]] == 1 and needed_ban == 1) or \\\n",
        "            (row[covered_columns[2]] == 1 and needed_bodi == 1) or \\\n",
        "            (row[covered_columns[3]] == 1 and needed_interior == 1) or \\\n",
        "            (row[covered_columns[4]] == 1 and needed_oli == 1):\n",
        "        recommended_technicians.append(row['technicians_id'])\n",
        "\n",
        "# Print the predicted results\n",
        "print(\"Predicted Technicians ID:\", predicted_technicians_id)\n",
        "print(\"Predicted Rating:\", predicted_rating)\n",
        "print(\"Recommended Technicians ID:\", recommended_technicians)"
      ],
      "metadata": {
        "colab": {
          "base_uri": "https://localhost:8080/"
        },
        "id": "ImU8u36sPlqH",
        "outputId": "54483d41-d79c-4b2a-820d-4335dcade83c"
      },
      "execution_count": 17,
      "outputs": [
        {
          "output_type": "stream",
          "name": "stdout",
          "text": [
            "Enter User ID: 1653\n",
            "Ban needed (0/1): 0\n",
            "Mesin needed (0/1): 0\n",
            "Bodi needed (0/1): 1\n",
            "Interior needed (0/1): 0\n",
            "Oli needed (0/1): 0\n",
            "1/1 [==============================] - 0s 72ms/step\n",
            "Predicted Technicians ID: 20\n",
            "Predicted Rating: 5\n",
            "Recommended Technicians ID: [1, 2, 3, 7, 10, 11, 12, 14, 16, 19, 20]\n"
          ]
        }
      ]
    },
    {
      "cell_type": "code",
      "source": [
        "model.save(\"model.h5\")"
      ],
      "metadata": {
        "id": "-HHD1RWDiWWt"
      },
      "execution_count": 18,
      "outputs": []
    },
    {
      "cell_type": "code",
      "source": [
        "import tensorflow as tf\n",
        "\n",
        "export_dir = 'saved_model/1'\n",
        "tf.saved_model.save(model, export_dir)\n",
        "\n",
        "# Convert model\n",
        "converter = tf.lite.TFLiteConverter.from_saved_model(export_dir)\n",
        "tflite_model = converter.convert()\n",
        "\n",
        "import pathlib\n",
        "\n",
        "tflite_model_file = pathlib.Path('model.tflite')\n",
        "tflite_model_file.write_bytes(tflite_model)\n",
        "\n",
        "# Load TFLite model and allocate tensors\n",
        "interpreter = tf.lite.Interpreter(model_content=tflite_model)\n",
        "interpreter.allocate_tensors()\n",
        "\n",
        "# Get input and output tensors\n",
        "input_details = interpreter.get_input_details()\n",
        "output_details = interpreter.get_output_details()\n",
        "\n",
        "try:\n",
        "    from google.colab import files\n",
        "    files.download(tflite_model_file)\n",
        "except:\n",
        "    pass"
      ],
      "metadata": {
        "colab": {
          "base_uri": "https://localhost:8080/",
          "height": 17
        },
        "id": "TqKP9Boojyys",
        "outputId": "5c61ba1a-c299-4100-fbc2-421cbd6037c2"
      },
      "execution_count": 19,
      "outputs": [
        {
          "output_type": "display_data",
          "data": {
            "text/plain": [
              "<IPython.core.display.Javascript object>"
            ],
            "application/javascript": [
              "\n",
              "    async function download(id, filename, size) {\n",
              "      if (!google.colab.kernel.accessAllowed) {\n",
              "        return;\n",
              "      }\n",
              "      const div = document.createElement('div');\n",
              "      const label = document.createElement('label');\n",
              "      label.textContent = `Downloading \"${filename}\": `;\n",
              "      div.appendChild(label);\n",
              "      const progress = document.createElement('progress');\n",
              "      progress.max = size;\n",
              "      div.appendChild(progress);\n",
              "      document.body.appendChild(div);\n",
              "\n",
              "      const buffers = [];\n",
              "      let downloaded = 0;\n",
              "\n",
              "      const channel = await google.colab.kernel.comms.open(id);\n",
              "      // Send a message to notify the kernel that we're ready.\n",
              "      channel.send({})\n",
              "\n",
              "      for await (const message of channel.messages) {\n",
              "        // Send a message to notify the kernel that we're ready.\n",
              "        channel.send({})\n",
              "        if (message.buffers) {\n",
              "          for (const buffer of message.buffers) {\n",
              "            buffers.push(buffer);\n",
              "            downloaded += buffer.byteLength;\n",
              "            progress.value = downloaded;\n",
              "          }\n",
              "        }\n",
              "      }\n",
              "      const blob = new Blob(buffers, {type: 'application/binary'});\n",
              "      const a = document.createElement('a');\n",
              "      a.href = window.URL.createObjectURL(blob);\n",
              "      a.download = filename;\n",
              "      div.appendChild(a);\n",
              "      a.click();\n",
              "      div.remove();\n",
              "    }\n",
              "  "
            ]
          },
          "metadata": {}
        },
        {
          "output_type": "display_data",
          "data": {
            "text/plain": [
              "<IPython.core.display.Javascript object>"
            ],
            "application/javascript": [
              "download(\"download_5d60adab-7427-401a-ade2-477fe423860f\", \"model.tflite\", 10857892)"
            ]
          },
          "metadata": {}
        }
      ]
    }
  ]
}