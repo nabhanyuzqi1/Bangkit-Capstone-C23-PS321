{
  "nbformat": 4,
  "nbformat_minor": 0,
  "metadata": {
    "colab": {
      "provenance": [],
      "gpuType": "T4"
    },
    "kernelspec": {
      "name": "python3",
      "display_name": "Python 3"
    },
    "language_info": {
      "name": "python"
    },
    "accelerator": "GPU"
  },
  "cells": [
    {
      "cell_type": "code",
      "source": [
        "import numpy as np\n",
        "import pandas as pd\n",
        "import tensorflow as tf\n",
        "from tensorflow.keras.models import Sequential\n",
        "from tensorflow.keras.layers import Dense, Dropout\n",
        "from sklearn.model_selection import train_test_split\n",
        "\n",
        "# Input dataset\n",
        "data = pd.read_csv('/content/dataset_6.csv')\n",
        "\n",
        "# Modify the \"needed\" column\n",
        "needed_columns = ['needed_ban', 'needed_mesin', 'needed_bodi', 'needed_interior', 'needed_oli']\n",
        "needed_values = data['needed'].apply(lambda x: [int(value == x) for value in ['ban', 'mesin', 'bodi', 'interior', 'oli']])\n",
        "needed_df = pd.DataFrame(needed_values.tolist(), columns=needed_columns)\n",
        "data_encoded = pd.concat([data, needed_df], axis=1)\n",
        "\n",
        "# Modify the \"covered\" column\n",
        "covered_columns = ['covered_ban', 'covered_mesin', 'covered_bodi', 'covered_interior', 'covered_oli']\n",
        "covered_values = data['covered'].apply(lambda x: [int(value in x.split('|')) for value in ['ban', 'mesin', 'bodi', 'interior', 'oli']])\n",
        "covered_df = pd.DataFrame(covered_values.tolist(), columns=covered_columns)\n",
        "data_encoded = pd.concat([data_encoded, covered_df], axis=1)\n",
        "\n",
        "# Convert ratings to integers\n",
        "data_encoded['rating'] = data_encoded['rating'].astype(int)\n",
        "\n",
        "# Remove 'needed' and 'covered' columns from the encoded DataFrame\n",
        "data_encoded = data_encoded.drop(['needed', 'covered'], axis=1)\n",
        "\n",
        "# Split data into training and testing sets\n",
        "train_data, test_data = train_test_split(data_encoded, test_size=0.2, random_state=42)\n",
        "\n",
        "# Separate features and target variables\n",
        "train_features = train_data.drop(['technicians_id', 'rating'] + covered_columns, axis=1)\n",
        "train_target = train_data[['technicians_id', 'rating'] + covered_columns]\n",
        "test_features = test_data.drop(['technicians_id', 'rating'] + covered_columns, axis=1)\n",
        "test_target = test_data[['technicians_id', 'rating'] + covered_columns]\n",
        "\n",
        "# Convert the train features and target to float32\n",
        "train_features = np.array(train_features).astype(np.float32)\n",
        "train_target = np.array(train_target).astype(np.float32)\n",
        "\n",
        "# Convert the test features and target to float32\n",
        "test_features = np.array(test_features).astype(np.float32)\n",
        "test_target = np.array(test_target).astype(np.float32)\n",
        "\n",
        "# Define model\n",
        "model = Sequential()\n",
        "model.add(Dense(64, activation='relu', input_shape=(train_features.shape[1],)))\n",
        "model.add(Dropout(0.5))\n",
        "model.add(Dense(128, activation='relu', kernel_regularizer=tf.keras.regularizers.l2(0.1)))\n",
        "model.add(Dropout(0.5))\n",
        "model.add(Dense(256, activation='relu'))\n",
        "model.add(Dropout(0.5))\n",
        "model.add(Dense(512, activation='relu'))\n",
        "model.add(Dense(train_target.shape[1], activation='softmax'))\n",
        "\n",
        "def mean_average_precision(y_true, y_pred):\n",
        "    # Extract the relevant information from y_true and y_pred\n",
        "    y_true = test_features\n",
        "    y_pred = test_target\n",
        "    user_id = y_true[:, 0]\n",
        "    needed = y_true[:, 1:6]\n",
        "    technicians_id = y_pred[:, 0]\n",
        "    rating = y_pred[:, 1]\n",
        "    covered = y_pred[:, 2:7]\n",
        "\n",
        "    # Compute the Average Precision (AP) for each user\n",
        "    ap_values = []\n",
        "    for i in range(len(user_id)):\n",
        "        # Get the relevant items for the user from y_true\n",
        "        relevant_items = np.where(needed[i] == 1)[0]\n",
        "\n",
        "        # Get the predicted items for the user from y_pred\n",
        "        predicted_items = np.where(covered[i] == 1)[0]\n",
        "\n",
        "        # Compute the precision at each position\n",
        "        precision = []\n",
        "        for j in range(len(predicted_items)):\n",
        "            if predicted_items[j] in relevant_items:\n",
        "                precision.append(np.sum(predicted_items[:j+1] == predicted_items[j]) / (j+1))\n",
        "\n",
        "        # Compute the Average Precision (AP) for the user\n",
        "        ap = np.mean(precision) if precision else 0.0\n",
        "        ap_values.append(ap)\n",
        "\n",
        "    # Compute the Mean Average Precision (MAP) across all users\n",
        "    map_value = np.mean(ap_values)\n",
        "    \n",
        "    return map_value\n",
        "\n",
        "# Compile model\n",
        "model.compile(loss='hinge', optimizer= 'adam', metrics=[mean_average_precision])\n",
        "\n",
        "# Train model\n",
        "history = model.fit(train_features, train_target, epochs=30, validation_split=0.2, batch_size = 32)\n",
        "\n",
        "# Evaluate the model\n",
        "test_loss, test_map = model.evaluate(test_features, test_target)\n"
      ],
      "metadata": {
        "colab": {
          "base_uri": "https://localhost:8080/"
        },
        "id": "LIKvAU3bdY5_",
        "outputId": "c4b4c645-61c6-463c-c28a-386786788d16"
      },
      "execution_count": 110,
      "outputs": [
        {
          "output_type": "stream",
          "name": "stdout",
          "text": [
            "Epoch 1/30\n",
            "10/10 [==============================] - 2s 27ms/step - loss: 8.7229 - mean_average_precision: 0.8083 - val_loss: 7.9302 - val_mean_average_precision: 0.8083\n",
            "Epoch 2/30\n",
            "10/10 [==============================] - 0s 7ms/step - loss: 7.4823 - mean_average_precision: 0.8083 - val_loss: 6.8850 - val_mean_average_precision: 0.8083\n",
            "Epoch 3/30\n",
            "10/10 [==============================] - 0s 7ms/step - loss: 6.4303 - mean_average_precision: 0.8083 - val_loss: 5.9062 - val_mean_average_precision: 0.8083\n",
            "Epoch 4/30\n",
            "10/10 [==============================] - 0s 7ms/step - loss: 5.5161 - mean_average_precision: 0.8083 - val_loss: 5.0667 - val_mean_average_precision: 0.8083\n",
            "Epoch 5/30\n",
            "10/10 [==============================] - 0s 7ms/step - loss: 4.7344 - mean_average_precision: 0.8083 - val_loss: 4.3500 - val_mean_average_precision: 0.8083\n",
            "Epoch 6/30\n",
            "10/10 [==============================] - 0s 9ms/step - loss: 4.0684 - mean_average_precision: 0.8083 - val_loss: 3.7428 - val_mean_average_precision: 0.8083\n",
            "Epoch 7/30\n",
            "10/10 [==============================] - 0s 7ms/step - loss: 3.5023 - mean_average_precision: 0.8083 - val_loss: 3.2300 - val_mean_average_precision: 0.8083\n",
            "Epoch 8/30\n",
            "10/10 [==============================] - 0s 8ms/step - loss: 3.0281 - mean_average_precision: 0.8083 - val_loss: 2.8021 - val_mean_average_precision: 0.8083\n",
            "Epoch 9/30\n",
            "10/10 [==============================] - 0s 7ms/step - loss: 2.6345 - mean_average_precision: 0.8083 - val_loss: 2.4432 - val_mean_average_precision: 0.8083\n",
            "Epoch 10/30\n",
            "10/10 [==============================] - 0s 7ms/step - loss: 2.2973 - mean_average_precision: 0.8083 - val_loss: 2.1199 - val_mean_average_precision: 0.8083\n",
            "Epoch 11/30\n",
            "10/10 [==============================] - 0s 7ms/step - loss: 2.0216 - mean_average_precision: 0.8083 - val_loss: 1.9050 - val_mean_average_precision: 0.8083\n",
            "Epoch 12/30\n",
            "10/10 [==============================] - 0s 7ms/step - loss: 1.8030 - mean_average_precision: 0.8083 - val_loss: 1.6626 - val_mean_average_precision: 0.8083\n",
            "Epoch 13/30\n",
            "10/10 [==============================] - 0s 7ms/step - loss: 1.6135 - mean_average_precision: 0.8083 - val_loss: 1.4417 - val_mean_average_precision: 0.8083\n",
            "Epoch 14/30\n",
            "10/10 [==============================] - 0s 8ms/step - loss: 1.4817 - mean_average_precision: 0.8083 - val_loss: 1.4322 - val_mean_average_precision: 0.8083\n",
            "Epoch 15/30\n",
            "10/10 [==============================] - 0s 8ms/step - loss: 1.3829 - mean_average_precision: 0.8083 - val_loss: 1.3288 - val_mean_average_precision: 0.8083\n",
            "Epoch 16/30\n",
            "10/10 [==============================] - 0s 8ms/step - loss: 1.2876 - mean_average_precision: 0.8083 - val_loss: 1.2407 - val_mean_average_precision: 0.8083\n",
            "Epoch 17/30\n",
            "10/10 [==============================] - 0s 7ms/step - loss: 1.2060 - mean_average_precision: 0.8083 - val_loss: 1.1671 - val_mean_average_precision: 0.8083\n",
            "Epoch 18/30\n",
            "10/10 [==============================] - 0s 6ms/step - loss: 1.1390 - mean_average_precision: 0.8083 - val_loss: 1.1064 - val_mean_average_precision: 0.8083\n",
            "Epoch 19/30\n",
            "10/10 [==============================] - 0s 9ms/step - loss: 1.0809 - mean_average_precision: 0.8083 - val_loss: 1.0562 - val_mean_average_precision: 0.8083\n",
            "Epoch 20/30\n",
            "10/10 [==============================] - 0s 8ms/step - loss: 1.0353 - mean_average_precision: 0.8083 - val_loss: 1.0144 - val_mean_average_precision: 0.8083\n",
            "Epoch 21/30\n",
            "10/10 [==============================] - 0s 7ms/step - loss: 0.9973 - mean_average_precision: 0.8083 - val_loss: 0.9802 - val_mean_average_precision: 0.8083\n",
            "Epoch 22/30\n",
            "10/10 [==============================] - 0s 7ms/step - loss: 0.9636 - mean_average_precision: 0.8083 - val_loss: 0.9497 - val_mean_average_precision: 0.8083\n",
            "Epoch 23/30\n",
            "10/10 [==============================] - 0s 7ms/step - loss: 0.9315 - mean_average_precision: 0.8083 - val_loss: 0.8741 - val_mean_average_precision: 0.8083\n",
            "Epoch 24/30\n",
            "10/10 [==============================] - 0s 9ms/step - loss: 0.8942 - mean_average_precision: 0.8083 - val_loss: 0.9144 - val_mean_average_precision: 0.8083\n",
            "Epoch 25/30\n",
            "10/10 [==============================] - 0s 7ms/step - loss: 0.8755 - mean_average_precision: 0.8083 - val_loss: 0.7928 - val_mean_average_precision: 0.8083\n",
            "Epoch 26/30\n",
            "10/10 [==============================] - 0s 7ms/step - loss: 0.8729 - mean_average_precision: 0.8083 - val_loss: 0.8542 - val_mean_average_precision: 0.8083\n",
            "Epoch 27/30\n",
            "10/10 [==============================] - 0s 8ms/step - loss: 0.8628 - mean_average_precision: 0.8083 - val_loss: 0.8643 - val_mean_average_precision: 0.8083\n",
            "Epoch 28/30\n",
            "10/10 [==============================] - 0s 8ms/step - loss: 0.8537 - mean_average_precision: 0.8083 - val_loss: 0.8716 - val_mean_average_precision: 0.8083\n",
            "Epoch 29/30\n",
            "10/10 [==============================] - 0s 7ms/step - loss: 0.8373 - mean_average_precision: 0.8083 - val_loss: 0.8027 - val_mean_average_precision: 0.8083\n",
            "Epoch 30/30\n",
            "10/10 [==============================] - 0s 7ms/step - loss: 0.8071 - mean_average_precision: 0.8083 - val_loss: 0.7589 - val_mean_average_precision: 0.8083\n",
            "4/4 [==============================] - 0s 6ms/step - loss: 0.7549 - mean_average_precision: 0.8083\n"
          ]
        }
      ]
    },
    {
      "cell_type": "code",
      "source": [
        "# Plot the loss and accuracy\n",
        "import matplotlib.pyplot as plt\n",
        "\n",
        "plt.plot(history.history['loss'], label='Train Loss')\n",
        "plt.plot(history.history['val_loss'], label='Validation Loss')\n",
        "plt.title('Loss')\n",
        "plt.xlabel('Epochs')\n",
        "plt.ylabel('Loss')\n",
        "plt.legend()\n",
        "plt.show()"
      ],
      "metadata": {
        "colab": {
          "base_uri": "https://localhost:8080/",
          "height": 472
        },
        "id": "8V1Lae2PtGoK",
        "outputId": "8df43a01-9933-489d-b7ff-a81d70d88325"
      },
      "execution_count": 111,
      "outputs": [
        {
          "output_type": "display_data",
          "data": {
            "text/plain": [
              "<Figure size 640x480 with 1 Axes>"
            ],
            "image/png": "[encoded data removed]"
          },
          "metadata": {}
        }
      ]
    },
    {
      "cell_type": "code",
      "source": [
        "import matplotlib.pyplot as plt\n",
        "\n",
        "# Get the MAP values for each epoch\n",
        "train_map = history.history['mean_average_precision']\n",
        "val_map = history.history['val_mean_average_precision']\n",
        "\n",
        "# Plot the MAP values\n",
        "epochs = range(1, len(train_map) + 1)\n",
        "plt.plot(epochs, train_map, 'bo-', label='Training MAP')\n",
        "plt.plot(epochs, val_map, 'ro-', label='Validation MAP')\n",
        "plt.xlabel('Epochs')\n",
        "plt.ylabel('MAP')\n",
        "plt.title('Training and Validation MAP')\n",
        "plt.legend()\n",
        "plt.show()\n"
      ],
      "metadata": {
        "colab": {
          "base_uri": "https://localhost:8080/",
          "height": 487
        },
        "id": "LYzm8GJ95hMI",
        "outputId": "1a73a16c-679c-480d-8198-f35bff0bf388"
      },
      "execution_count": 112,
      "outputs": [
        {
          "output_type": "display_data",
          "data": {
            "text/plain": [
              "<Figure size 640x480 with 1 Axes>"
            ],
            "image/png": "[encoded data removed]"
          },
          "metadata": {}
        }
      ]
    },
    {
      "cell_type": "code",
      "source": [
        "# Preprocess the input\n",
        "user_id = int(input(\"Enter User ID: \"))\n",
        "needed_ban = int(input(\"Ban needed (0/1): \"))\n",
        "needed_mesin = int(input(\"Mesin needed (0/1): \"))\n",
        "needed_bodi = int(input(\"Bodi needed (0/1): \"))\n",
        "needed_interior = int(input(\"Interior needed (0/1): \"))\n",
        "needed_oli = int(input(\"Oli needed (0/1): \"))\n",
        "\n",
        "# Encode the user's input\n",
        "user_data = pd.DataFrame([[user_id, needed_ban, needed_mesin, needed_bodi, needed_interior, needed_oli]],\n",
        "                         columns=['user_id', 'needed_ban', 'needed_mesin', 'needed_bodi', 'needed_interior', 'needed_oli'])\n",
        "\n",
        "# Convert the user's encoded features to float32\n",
        "user_features = np.array(user_data).astype(np.float32)\n",
        "\n",
        "# Make predictions\n",
        "predictions = model.predict(user_features)\n",
        "\n",
        "# Retrieve the predicted technicians and ratings\n",
        "predicted_technicians_id = predictions[0][0]\n",
        "predicted_rating = predictions[0][1]\n",
        "predicted_covered = predictions[0][2:]\n",
        "predicted_technicians_id = int(np.round(np.clip(predicted_technicians_id, 1, 20)))\n",
        "predicted_rating = int(np.round(np.clip(predicted_rating, 1, 5)))\n",
        "\n",
        "# Convert the predicted_covered values to exact 1s and 0s\n",
        "predicted_covered_exact = np.argmax(predicted_covered)\n",
        "\n",
        "# Decode the one-hot encoded covered columns\n",
        "covered_columns = ['covered_ban', 'covered_mesin', 'covered_bodi', 'covered_interior', 'covered_oli']\n",
        "predicted_covered_dict = {}\n",
        "for i in range(len(covered_columns)):\n",
        "    predicted_covered_dict[covered_columns[i]] = int(predicted_covered_exact == i)\n",
        "\n",
        "# Print the predicted results\n",
        "print(\"Predicted Technicians ID:\", predicted_technicians_id)\n",
        "print(\"Predicted Rating:\", predicted_rating)\n",
        "print(\"Predicted Covered:\")\n",
        "for column, value in predicted_covered_dict.items():\n",
        "  print(column + \":\", int(value))"
      ],
      "metadata": {
        "colab": {
          "base_uri": "https://localhost:8080/"
        },
        "id": "ImU8u36sPlqH",
        "outputId": "28069fbd-37e1-4071-a184-ef53e19acdff"
      },
      "execution_count": 113,
      "outputs": [
        {
          "output_type": "stream",
          "name": "stdout",
          "text": [
            "Enter User ID: 56\n",
            "Ban needed (0/1): 0\n",
            "Mesin needed (0/1): 0\n",
            "Bodi needed (0/1): 0\n",
            "Interior needed (0/1): 1\n",
            "Oli needed (0/1): 0\n",
            "1/1 [==============================] - 0s 64ms/step\n",
            "Predicted Technicians ID: 1\n",
            "Predicted Rating: 1\n",
            "Predicted Covered:\n",
            "covered_ban: 0\n",
            "covered_mesin: 0\n",
            "covered_bodi: 0\n",
            "covered_interior: 0\n",
            "covered_oli: 1\n"
          ]
        }
      ]
    },
    {
      "cell_type": "code",
      "source": [
        "model.save(\"model.h5\")"
      ],
      "metadata": {
        "id": "-HHD1RWDiWWt"
      },
      "execution_count": 114,
      "outputs": []
    },
    {
      "cell_type": "code",
      "source": [
        "import tensorflow as tf\n",
        "\n",
        "export_dir = 'saved_model/1'\n",
        "tf.saved_model.save(model, export_dir)\n",
        "\n",
        "# Convert model\n",
        "converter = tf.lite.TFLiteConverter.from_saved_model(export_dir)\n",
        "tflite_model = converter.convert()\n",
        "\n",
        "import pathlib\n",
        "\n",
        "tflite_model_file = pathlib.Path('model.tflite')\n",
        "tflite_model_file.write_bytes(tflite_model)\n",
        "\n",
        "# Load TFLite model and allocate tensors\n",
        "interpreter = tf.lite.Interpreter(model_content=tflite_model)\n",
        "interpreter.allocate_tensors()\n",
        "\n",
        "# Get input and output tensors\n",
        "input_details = interpreter.get_input_details()\n",
        "output_details = interpreter.get_output_details()\n",
        "\n",
        "try:\n",
        "    from google.colab import files\n",
        "    files.download(tflite_model_file)\n",
        "except:\n",
        "    pass"
      ],
      "metadata": {
        "colab": {
          "base_uri": "https://localhost:8080/",
          "height": 17
        },
        "id": "TqKP9Boojyys",
        "outputId": "13820403-faff-4ca6-caff-264d8eabb5b8"
      },
      "execution_count": 115,
      "outputs": [
        {
          "output_type": "display_data",
          "data": {
            "text/plain": [
              "<IPython.core.display.Javascript object>"
            ],
            "application/javascript": [
              "\n",
              "    async function download(id, filename, size) {\n",
              "      if (!google.colab.kernel.accessAllowed) {\n",
              "        return;\n",
              "      }\n",
              "      const div = document.createElement('div');\n",
              "      const label = document.createElement('label');\n",
              "      label.textContent = `Downloading \"${filename}\": `;\n",
              "      div.appendChild(label);\n",
              "      const progress = document.createElement('progress');\n",
              "      progress.max = size;\n",
              "      div.appendChild(progress);\n",
              "      document.body.appendChild(div);\n",
              "\n",
              "      const buffers = [];\n",
              "      let downloaded = 0;\n",
              "\n",
              "      const channel = await google.colab.kernel.comms.open(id);\n",
              "      // Send a message to notify the kernel that we're ready.\n",
              "      channel.send({})\n",
              "\n",
              "      for await (const message of channel.messages) {\n",
              "        // Send a message to notify the kernel that we're ready.\n",
              "        channel.send({})\n",
              "        if (message.buffers) {\n",
              "          for (const buffer of message.buffers) {\n",
              "            buffers.push(buffer);\n",
              "            downloaded += buffer.byteLength;\n",
              "            progress.value = downloaded;\n",
              "          }\n",
              "        }\n",
              "      }\n",
              "      const blob = new Blob(buffers, {type: 'application/binary'});\n",
              "      const a = document.createElement('a');\n",
              "      a.href = window.URL.createObjectURL(blob);\n",
              "      a.download = filename;\n",
              "      div.appendChild(a);\n",
              "      a.click();\n",
              "      div.remove();\n",
              "    }\n",
              "  "
            ]
          },
          "metadata": {}
        },
        {
          "output_type": "display_data",
          "data": {
            "text/plain": [
              "<IPython.core.display.Javascript object>"
            ],
            "application/javascript": [
              "download(\"download_c90d5d17-222e-45e6-9d3a-3bbf3831b19f\", \"model.tflite\", 710892)"
            ]
          },
          "metadata": {}
        }
      ]
    }
  ]
}